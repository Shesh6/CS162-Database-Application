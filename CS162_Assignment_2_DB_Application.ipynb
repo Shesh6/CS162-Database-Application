{
  "nbformat": 4,
  "nbformat_minor": 0,
  "metadata": {
    "colab": {
      "name": "CS162 Assignment 2 - DB Application.ipynb",
      "version": "0.3.2",
      "provenance": [],
      "collapsed_sections": []
    },
    "kernelspec": {
      "name": "python3",
      "display_name": "Python 3"
    }
  },
  "cells": [
    {
      "metadata": {
        "id": "h3tfiaCop3-Z",
        "colab_type": "code",
        "colab": {}
      },
      "cell_type": "code",
      "source": [
        "# Imports\n",
        "from sqlalchemy.ext.declarative import declarative_base\n",
        "from sqlalchemy.orm import relationship, sessionmaker \n",
        "from sqlalchemy import create_engine, Column, Text, Integer, Date, Boolean, \\\n",
        "                       ForeignKey, case, func, join, text, extract\n",
        "from datetime import datetime as dt\n",
        "import numpy as np\n",
        "import pandas as pd"
      ],
      "execution_count": 0,
      "outputs": []
    },
    {
      "metadata": {
        "id": "cDB4CKYSqU7a",
        "colab_type": "code",
        "colab": {}
      },
      "cell_type": "code",
      "source": [
        "# Init DB\n",
        "engine = create_engine('sqlite:///database.db')\n",
        "engine.connect() \n",
        "Base = declarative_base()"
      ],
      "execution_count": 0,
      "outputs": []
    },
    {
      "metadata": {
        "id": "TD3LOYqdqccb",
        "colab_type": "code",
        "colab": {}
      },
      "cell_type": "code",
      "source": [
        "# Define Tables\n",
        "class House(Base):\n",
        "    __tablename__ = 'Houses'\n",
        "    id = Column(Integer, primary_key = True)\n",
        "    address = Column(Text)\n",
        "    office_id = Column(Integer, ForeignKey('Offices.id'))\n",
        "    agent_id = Column(Integer, ForeignKey('Agents.id'))\n",
        "    seller_id = Column(Integer, ForeignKey('Customers.id'))    \n",
        "    no_bedrooms = Column(Integer, nullable=False)\n",
        "    no_bathrooms = Column(Integer, nullable=False)\n",
        "    list_price = Column(Integer, nullable=False)\n",
        "    zipcode = Column(Integer)\n",
        "    list_date = Column(Date)\n",
        "    sold = Column(Boolean)\n",
        "\n",
        "class Customer(Base):\n",
        "    __tablename__ = 'Customers'\n",
        "    id = Column(Integer, primary_key = True)\n",
        "    name = Column(Text, index = True)\n",
        "    \n",
        "class Office(Base):\n",
        "    __tablename__ = 'Offices'\n",
        "    id = Column(Integer, primary_key = True)\n",
        "    address = Column(Text, index = True)\n",
        "\n",
        "class Agent(Base):\n",
        "    __tablename__ = 'Agents'\n",
        "    id = Column(Integer, primary_key = True)\n",
        "    name = Column(Text, index = True)\n",
        "    handel = Column(Text, index = True)\n",
        "\n",
        "class Sale(Base):\n",
        "    __tablename__ = 'Sales'\n",
        "    id = Column(Integer, primary_key = True)\n",
        "    house_id = Column(Integer, ForeignKey('Houses.id'))\n",
        "    buyer_id = Column(Integer, ForeignKey('Customers.id'))\n",
        "    sale_price = Column(Integer, nullable=False)\n",
        "    sale_date = Column(Date)\n",
        "    sale_commission = Column(Integer)\n",
        "    \n",
        "# Create tables\n",
        "Base.metadata.create_all(bind=engine)"
      ],
      "execution_count": 0,
      "outputs": []
    },
    {
      "metadata": {
        "id": "Ln63sMcS-BEh",
        "colab_type": "code",
        "colab": {}
      },
      "cell_type": "code",
      "source": [
        "# Add Sale\n",
        "def sell_house(house, buyer, date):\n",
        "    \n",
        "    # Open Session\n",
        "\tSession = sessionmaker(bind=engine)\n",
        "\tsession = Session()\n",
        "    \n",
        "    # Mark Sold\n",
        "    house_row = session.query(House).filter(House.id == house)\n",
        "    house_row.update({House.sold: True})\n",
        "    \n",
        "    # Calculate price and comission\n",
        "    price = session.query(House.list_price).filter(House.id == house)\n",
        "    fraction = case([(House.list_price < 100000, 0.01),\n",
        "                     (House.list_price < 200000, 0.075),\n",
        "                     (House.list_price < 500000, 0.06),\n",
        "                     (House.list_price < 1000000, 0.05),\n",
        "                     (House.list_price > 1000000, 0.04),])\n",
        "    commission = session.query(House.list_price*fraction).filter(House.id==house)\n",
        "    # Add Sale\n",
        "    session.add(Sale( \n",
        "        house_id = house,\n",
        "        buyer_id = buyer,\n",
        "        sale_price = price,\n",
        "        sale_date = date,\n",
        "        sale_commission = commission))\n",
        "    \n",
        "    # Commit Change and close session\n",
        "    session.commit()\n",
        "    session.close()"
      ],
      "execution_count": 0,
      "outputs": []
    },
    {
      "metadata": {
        "id": "tVkLpU7NuIkz",
        "colab_type": "code",
        "colab": {}
      },
      "cell_type": "code",
      "source": [
        "# Add Seed Data\n",
        "\n",
        "# Open Session\n",
        "Session = sessionmaker(bind=engine)\n",
        "session = Session()\n",
        "\n",
        "k_house = [column.key for column in House.__table__.c][1:]\n",
        "v_house = [\n",
        "    ['Giza', 1, 1, 1, 11, 1, 4500000, 14143, dt(2019, 4, 9),False],\n",
        "    ['Rhodes', 2, 2, 2, 4, 2, 200003, 10001, dt(2019, 4, 3),False],\n",
        "    ['Babylon', 3, 3, 2, 2, 3, 2220000, 20331, dt(2019, 3, 3),False],\n",
        "    ['Alexandria', 4, 4, 3, 4, 2, 624000, 14143, dt(2018, 10, 5),False],\n",
        "    ['Halicarnassus', 5, 4, 3, 5, 6, 35000, 94102, dt(2018, 3, 9),False],\n",
        "    ['Olympia', 2, 5, 5, 1, 5, 1000, 10001, dt(101, 10, 1),False]]\n",
        "\n",
        "k_customer = [column.key for column in Customer.__table__.c][1:]\n",
        "v_customer = [['King Mansa Musa'], ['Jeff Bazos'], ['King Midas'],\n",
        "             ['John D. Rockefeller'], ['Bill Gates'], ['Baron Rothschild']]\n",
        "\n",
        "k_office = [column.key for column in Office.__table__.c][1:]\n",
        "v_office = [['1600 Pennsylvania Avenue'],['10 Downing Street'],['350 Fifth Avenue'],\n",
        "           {'221 B Baker Street'},['30 Rockefeller Plaza'], ['5 Avenue Anatole']]\n",
        "\n",
        "k_agent = [column.key for column in Agent.__table__.c][1:]\n",
        "v_agent = [['James Bond','@007'],['Natasha Romanoff','@b_widow'],['Austin Powers','@groovybb'],\n",
        "           ['Clarice Starling','@QuidFoSho'],['Fourty Seven','@hitman_official'],['Smith','@redpill']]"
      ],
      "execution_count": 0,
      "outputs": []
    },
    {
      "metadata": {
        "id": "qlcqjImlueZ3",
        "colab_type": "code",
        "colab": {}
      },
      "cell_type": "code",
      "source": [
        "classes = [House,Customer,Office,Agent]\n",
        "keys = [k_house, k_customer, k_office, k_agent]\n",
        "values = [v_house, v_customer, v_office, v_agent]\n",
        "\n",
        "for i in range(len(classes)):\n",
        "    bundles = []\n",
        "    for item in values[i]:\n",
        "        items = dict(zip(keys[i], item))\n",
        "        bundles.append(items)\n",
        "    \n",
        "    for bundle in bundles:\n",
        "        session.add(classes[i](**bundle))\n",
        "        \n",
        "        \n",
        "session.commit()\n",
        "session.close()"
      ],
      "execution_count": 0,
      "outputs": []
    },
    {
      "metadata": {
        "id": "_eTejUa1OmjM",
        "colab_type": "code",
        "colab": {}
      },
      "cell_type": "code",
      "source": [
        "sell_house(1, 5, dt(2019, 4, 9))\n",
        "sell_house(2, 4, dt(2019, 4, 8))\n",
        "sell_house(3, 4, dt(2019, 4, 1))\n",
        "sell_house(4, 6, dt(2019, 2, 5))\n",
        "sell_house(5, 6, dt(2019, 1, 10))\n",
        "sell_house(6, 6, dt(207, 1, 1))"
      ],
      "execution_count": 0,
      "outputs": []
    },
    {
      "metadata": {
        "id": "IaXrLGjq5W0c",
        "colab_type": "code",
        "colab": {}
      },
      "cell_type": "code",
      "source": [
        "# Query 1\n",
        "print(\"Find the top 5 offices with the most sales for that month:\")\n",
        "sales_count = func.count(House.office_id).label(\"Sales\")\n",
        "q1 = session.query(\n",
        "\tHouse.office_id,\n",
        "\tOffice.address,\n",
        "\tsales_count\n",
        "\t).join(Office).filter(House.sold == True)\\\n",
        "\t.group_by(House.office_id)\\\n",
        "\t.order_by(sales_count.desc())\\\n",
        "\t.limit(5)\n",
        "\n",
        "print(pd.read_sql(q1.statement, session.bind))"
      ],
      "execution_count": 0,
      "outputs": []
    },
    {
      "metadata": {
        "id": "_r_Yetmt5trG",
        "colab_type": "code",
        "colab": {}
      },
      "cell_type": "code",
      "source": [
        "# Query 2\n",
        "print(\"Find the top 5 estate agents who have sold the most:\")\n",
        "agent_sale_count = func.count(House.agent_id).label('Sales')\n",
        "q2 = session.query(\n",
        "\tAgent.id,\n",
        "\tAgent.name,\n",
        "\tAgent.handel,\n",
        "\tagent_sale_count\n",
        "\t).join(House).filter(House.sold == True)\\\n",
        "    .group_by(Agent.id)\\\n",
        "    .order_by(agent_sale_count.desc())\\\n",
        "    .limit(5)\n",
        "\n",
        "print(pd.read_sql(q2.statement, session.bind))"
      ],
      "execution_count": 0,
      "outputs": []
    },
    {
      "metadata": {
        "id": "vpSiqWn951Ly",
        "colab_type": "code",
        "colab": {}
      },
      "cell_type": "code",
      "source": [
        "# Query 3\n",
        "print(\"Calculate the commission that each estate agent must receive:\")\n",
        "total_coms = func.sum(Sale.sale_commission).label('Commission')\n",
        "q3 = session.query(\n",
        "\tAgent.name,\n",
        "\ttotal_coms\n",
        "\t).join(House,House.agent_id == Agent.id)\\\n",
        "\t.join(Sale, Sale.house_id == House.id)\\\n",
        "\t.group_by(Agent.id)\n",
        "\n",
        "print(pd.read_sql(q3.statement, session.bind))"
      ],
      "execution_count": 0,
      "outputs": []
    },
    {
      "metadata": {
        "id": "7QZ8n0dl9H6R",
        "colab_type": "code",
        "colab": {}
      },
      "cell_type": "code",
      "source": [
        "# Query 4\n",
        "print(\"For all houses that were sold that month, calculate the average number of days that the house was on the market:\")\n",
        "# Used raw input due to limited datetime functionality in SQLAlchemy\n",
        "q4 = text(\"\"\"SELECT Houses.address, \n",
        "\tHouses.list_date, \n",
        "\tSales.sale_date, \n",
        "\tjulianday(Sales.sale_date)- julianday(Houses.list_date)\n",
        "\tAS \"Days on Market\"\n",
        "\tFROM Houses \n",
        "\tJOIN Sales ON Houses.id == Sales.house_id\n",
        "\tWHERE strftime('%m', Sales.sale_date)==strftime('%m',CURRENT_TIMESTAMP)\"\"\")\n",
        "\n",
        "print(pd.read_sql(q4, session.bind))"
      ],
      "execution_count": 0,
      "outputs": []
    },
    {
      "metadata": {
        "id": "hF2VRQt1ZFoz",
        "colab_type": "code",
        "colab": {}
      },
      "cell_type": "code",
      "source": [
        "# Query 5\n",
        "print(\"For all houses that were sold that month, calculate the average selling price:\")\n",
        "avg_price = func.avg(Sale.sale_price).label('Average Price')\n",
        "q5 = session.query(\n",
        "\tavg_price)\\\n",
        "\t.filter(extract('month', Sale.sale_date) == dt.today().month)\n",
        "\n",
        "print(pd.read_sql(q5.statement, session.bind))"
      ],
      "execution_count": 0,
      "outputs": []
    },
    {
      "metadata": {
        "id": "2v7FSMSXZKl6",
        "colab_type": "code",
        "colab": {}
      },
      "cell_type": "code",
      "source": [
        "# Query 6\n",
        "print(\"Find the zip codes with the top 5 average sales prices:\")\n",
        "avg_price = func.avg(Sale.sale_price).label('Average Price')\n",
        "q6=session.query(\n",
        "\tHouse.zipcode,\n",
        "\tavg_price\n",
        "\t).join(Sale). \\\n",
        "filter(House.sold == True)\\\n",
        ".group_by(House.zipcode)\\\n",
        ".order_by(avg_price.desc()).limit(5)\n",
        "\n",
        "print(pd.read_sql(q6.statement, session.bind))"
      ],
      "execution_count": 0,
      "outputs": []
    }
  ]
}